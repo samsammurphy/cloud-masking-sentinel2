{
 "cells": [
  {
   "cell_type": "markdown",
   "metadata": {},
   "source": [
    "## Cloud masking with Sentinel 2"
   ]
  },
  {
   "cell_type": "markdown",
   "metadata": {},
   "source": [
    "Cloud and cloud shadow masking of Sentinel 2 images in Python. Refactored from javascipt taken from this thread: [Sentinel 2 cloud masking](https://groups.google.com/forum/#!searchin/google-earth-engine-developers/cloud$20masking%7Csort:relevance/google-earth-engine-developers/i63DS-Dg8Sg/Kc0knF9BBgAJ)"
   ]
  },
  {
   "cell_type": "markdown",
   "metadata": {},
   "source": [
    "<center>\n",
    "** Wavebands used for cloud and cloud shadow masking **\n",
    "</center>\n",
    "\n",
    "|Band \t|Use \t\t|Wavelength (nm) |Resolution (m)|\n",
    "|-------|-----------|----------------|--------------|\n",
    "|B1 \t|Aerosols \t|443 \t|60|\n",
    "|B2 \t|Blue \t\t|490 \t|10|\n",
    "|B3 \t|Green \t\t|560 \t|10|\n",
    "|B4 \t|Red \t\t|665 \t|10|\n",
    "|B6 \t|Red Edge 2 |740 \t|20|\n",
    "|B8a \t|Red Edge 4 |865 \t|20|\n",
    "|B9 \t|Water vapor|940 \t|60|\n",
    "|B10 \t|Cirrus \t|1375 \t|60|\n",
    "|B11 \t|SWIR 1 \t|1610 \t|20|\n",
    "|B12 \t|SWIR 2 \t|2190 \t|20|\n",
    "|QA60   |ESA Cloud  | n/a   |60|\n",
    "\n",
    "\n",
    "**NB: ** 8a (red4) used instead of 8 (nir) for narrower spectral width (i.e. 20 vs 115 nm)"
   ]
  },
  {
   "cell_type": "code",
   "execution_count": 1,
   "metadata": {
    "collapsed": true
   },
   "outputs": [],
   "source": [
    "from IPython.display import display, Image\n",
    "import math\n",
    "from geetools import cloud_mask, maptool\n",
    "import ee\n",
    "ee.Initialize()"
   ]
  },
  {
   "cell_type": "code",
   "execution_count": 2,
   "metadata": {
    "collapsed": true
   },
   "outputs": [],
   "source": [
    "def rescale(img, thresholds):\n",
    "    \"\"\"\n",
    "    Linear stretch of image between two threshold values.\n",
    "    \"\"\"\n",
    "    return img.subtract(thresholds[0]).divide(thresholds[1] - thresholds[0])"
   ]
  },
  {
   "cell_type": "code",
   "execution_count": 3,
   "metadata": {
    "collapsed": true
   },
   "outputs": [],
   "source": [
    "def sentinelCloudScore(img):\n",
    "    \"\"\"\n",
    "    Computes spectral indices of cloudyness and take the minimum of them.\n",
    "    \n",
    "    Each spectral index is fairly lenient because the group minimum \n",
    "    is a somewhat stringent comparison policy. side note -> this seems like a job for machine learning :)\n",
    "    \n",
    "    originally written by Matt Hancher for Landsat imagery\n",
    "    adapted to Sentinel by Chris Hewig and Ian Housman\n",
    "    \"\"\"\n",
    "    \n",
    "    # cloud until proven otherwise\n",
    "    score = ee.Image(1)\n",
    "\n",
    "    # clouds are reasonably bright\n",
    "    score = score.min(rescale(img.select(['blue']), [0.1, 0.5]))\n",
    "    score = score.min(rescale(img.select(['aerosol']), [0.1, 0.3]))\n",
    "    score = score.min(rescale(img.select(['aerosol']).add(img.select(['cirrus'])), [0.15, 0.2]))\n",
    "    score = score.min(rescale(img.select(['red']).add(img.select(['green'])).add(img.select('blue')), [0.2, 0.8]))\n",
    "\n",
    "    # clouds are moist\n",
    "    ndmi = img.normalizedDifference(['red4','swir1'])\n",
    "    score=score.min(rescale(ndmi, [-0.1, 0.1]))\n",
    "\n",
    "    # clouds are not snow.\n",
    "    ndsi = img.normalizedDifference(['green', 'swir1'])\n",
    "    score=score.min(rescale(ndsi, [0.8, 0.6])).rename(['cloudScore'])\n",
    "    \n",
    "    return img.addBands(score)"
   ]
  },
  {
   "cell_type": "code",
   "execution_count": 4,
   "metadata": {
    "collapsed": true
   },
   "outputs": [],
   "source": [
    "def ESAcloudMask(img):\n",
    "    \"\"\"\n",
    "    European Space Agency (ESA) clouds from 'QA60', i.e. Quality Assessment band at 60m\n",
    "     \n",
    "    parsed by Nick Clinton\n",
    "    \"\"\"\n",
    "\n",
    "    qa = img.select('QA60')\n",
    "\n",
    "    # bits 10 and 11 are clouds and cirrus\n",
    "    cloudBitMask = int(2**10)\n",
    "    cirrusBitMask = int(2**11)\n",
    "\n",
    "    # both flags set to zero indicates clear conditions.\n",
    "    clear = qa.bitwiseAnd(cloudBitMask).eq(0).And(\\\n",
    "           qa.bitwiseAnd(cirrusBitMask).eq(0))\n",
    "    \n",
    "    # clouds is not clear\n",
    "    cloud = clear.Not().rename(['ESA_clouds'])\n",
    "\n",
    "    # return the masked and scaled data.\n",
    "    return img.addBands(cloud)  "
   ]
  },
  {
   "cell_type": "code",
   "execution_count": 5,
   "metadata": {
    "collapsed": true
   },
   "outputs": [],
   "source": [
    "def shadowMask(img,cloudMaskType):\n",
    "    \"\"\"\n",
    "    Finds cloud shadows in images\n",
    "    \n",
    "    Originally by Gennadii Donchyts, adapted by Ian Housman\n",
    "    \"\"\"\n",
    "    \n",
    "    def potentialShadow(cloudHeight):\n",
    "        \"\"\"\n",
    "        Finds potential shadow areas from array of cloud heights\n",
    "        \n",
    "        returns an image stack (i.e. list of images) \n",
    "        \"\"\"\n",
    "        cloudHeight = ee.Number(cloudHeight)\n",
    "        \n",
    "        # shadow vector length\n",
    "        shadowVector = zenith.tan().multiply(cloudHeight)\n",
    "        \n",
    "        # x and y components of shadow vector length\n",
    "        x = azimuth.cos().multiply(shadowVector).divide(nominalScale).round()\n",
    "        y = azimuth.sin().multiply(shadowVector).divide(nominalScale).round()\n",
    "        \n",
    "        # affine translation of clouds\n",
    "        cloudShift = cloudMask.changeProj(cloudMask.projection(), cloudMask.projection().translate(x, y)) # could incorporate shadow stretch?\n",
    "        \n",
    "        return cloudShift\n",
    "  \n",
    "    # select a cloud mask\n",
    "    cloudMask = img.select(cloudMaskType)\n",
    "    \n",
    "    # make sure it is binary (i.e. apply threshold to cloud score)\n",
    "    cloudScoreThreshold = 0.5\n",
    "    cloudMask = cloudMask.gt(cloudScoreThreshold)\n",
    "\n",
    "    # solar geometry (radians)\n",
    "    azimuth = ee.Number(img.get('solar_azimuth')).multiply(math.pi).divide(180.0).add(ee.Number(0.5).multiply(math.pi))\n",
    "    zenith  = ee.Number(0.5).multiply(math.pi ).subtract(ee.Number(img.get('solar_zenith')).multiply(math.pi).divide(180.0))\n",
    "\n",
    "    # find potential shadow areas based on cloud and solar geometry\n",
    "    nominalScale = cloudMask.projection().nominalScale()\n",
    "    cloudHeights = ee.List.sequence(500,4000,500)        \n",
    "    potentialShadowStack = cloudHeights.map(potentialShadow)\n",
    "    potentialShadow = ee.ImageCollection.fromImages(potentialShadowStack).max()\n",
    "\n",
    "    # shadows are not clouds\n",
    "    potentialShadow = potentialShadow.And(cloudMask.Not())\n",
    "\n",
    "    # (modified) dark pixel detection \n",
    "    darkPixels = toa.normalizedDifference(['green', 'swir2']).gt(0.25)\n",
    "\n",
    "    # shadows are dark\n",
    "    shadows = potentialShadow.And(darkPixels).rename(['shadows'])\n",
    "    \n",
    "    # might be scope for one last check here. Dark surfaces (e.g. water, basalt, etc.) cause shadow commission errors.\n",
    "    # perhaps using a NDWI (e.g. green and nir)\n",
    "\n",
    "    return img.addBands(shadows)"
   ]
  },
  {
   "cell_type": "code",
   "execution_count": 16,
   "metadata": {
    "collapsed": true
   },
   "outputs": [],
   "source": [
    "def renameS2(img):\n",
    "    return img.select(['B1','B2','B3','B4','B6','B8','B8A','B9','B10', 'B11','B12'],\\\n",
    "                 ['aerosol', 'blue', 'green', 'red', 'red2','nir','red4','h2o', 'cirrus','swir1', 'swir2'])\\\n",
    "                 .divide(10000).addBands(img.select('QA60'))\\\n",
    "                 .set('solar_azimuth',img.get('MEAN_SOLAR_AZIMUTH_ANGLE'))\\\n",
    "                 .set('solar_zenith',img.get('MEAN_SOLAR_ZENITH_ANGLE'))"
   ]
  },
  {
   "cell_type": "code",
   "execution_count": 23,
   "metadata": {
    "collapsed": true
   },
   "outputs": [],
   "source": [
    "# region of interest\n",
    "# geom = ee.Geometry.Point(-155.0844, 19.7189) # HAWAII\n",
    "geom = ee.Geometry.Point(-72, -42) # PATAGONIA\n",
    "\n",
    "# start and end of time series\n",
    "startDate = ee.Date('1980-01-01')\n",
    "stopDate  = ee.Date('2020-01-01')"
   ]
  },
  {
   "cell_type": "code",
   "execution_count": 24,
   "metadata": {
    "collapsed": true
   },
   "outputs": [],
   "source": [
    "# image collection\n",
    "ic = ee.ImageCollection('COPERNICUS/S2')\\\n",
    "    .filterBounds(geom)\\\n",
    "    .filterDate(startDate,stopDate)\\\n",
    "    .filterMetadata('CLOUD_COVERAGE_ASSESSMENT', 'less_than', 80)\\\n",
    "    .filterMetadata('CLOUD_COVERAGE_ASSESSMENT', 'greater_than', 40)\n",
    "    \n",
    "    \n",
    "# single image\n",
    "img = ee.Image(ic.first())"
   ]
  },
  {
   "cell_type": "code",
   "execution_count": 25,
   "metadata": {
    "collapsed": true
   },
   "outputs": [],
   "source": [
    "# top of atmosphere reflectance\n",
    "toa = renameS2(img)"
   ]
  },
  {
   "cell_type": "markdown",
   "metadata": {},
   "source": [
    "# Cloud + Shadow"
   ]
  },
  {
   "cell_type": "code",
   "execution_count": 26,
   "metadata": {
    "collapsed": true
   },
   "outputs": [],
   "source": [
    "# Cloud Score\n",
    "cloud_score = sentinelCloudScore(toa).select(['cloudScore']).gt(0.5).Not()\n",
    "toaCS = toa.updateMask(cloud_score)\n",
    "\n",
    "# Cloud Shadow\n",
    "shadow_mask = shadowMask(sentinelCloudScore(toa),'cloudScore').select(['shadows']).Not()\n",
    "toaSHA = toaCS.updateMask(shadow_mask)"
   ]
  },
  {
   "cell_type": "markdown",
   "metadata": {},
   "source": [
    "# ESA Cloud Mask"
   ]
  },
  {
   "cell_type": "code",
   "execution_count": 27,
   "metadata": {
    "collapsed": true
   },
   "outputs": [],
   "source": [
    "# Mask\n",
    "esa_mask = ESAcloudMask(toa).select(['ESA_clouds']).Not()\n",
    "toaESA = toa.updateMask(esa_mask)"
   ]
  },
  {
   "cell_type": "markdown",
   "metadata": {},
   "source": [
    "# Hollstein Decision Tree"
   ]
  },
  {
   "cell_type": "code",
   "execution_count": 30,
   "metadata": {},
   "outputs": [],
   "source": [
    "# Get Function\n",
    "hollstein = cloud_mask.hollstein_S2(['cloud', 'cirrus', 'shadow'])\n",
    "# Mask image\n",
    "toaHOLL = hollstein(img)\n",
    "toaHOLL = renameS2(toaHOLL)"
   ]
  },
  {
   "cell_type": "markdown",
   "metadata": {},
   "source": [
    "# Add results to a Map"
   ]
  },
  {
   "cell_type": "code",
   "execution_count": 31,
   "metadata": {},
   "outputs": [
    {
     "data": {
      "text/html": [
       "<div style=\"width:100%;\"><div style=\"position:relative;width:100%;height:0;padding-bottom:60%;\"><iframe src=\"data:text/html;charset=utf-8;base64,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\" style=\"position:absolute;width:100%;height:100%;left:0;top:0;border:none !important;\" allowfullscreen webkitallowfullscreen mozallowfullscreen></iframe></div></div>"
      ],
      "text/plain": [
       "<geetools.maptool.Map at 0x7f296c8fe650>"
      ]
     },
     "execution_count": 31,
     "metadata": {},
     "output_type": "execute_result"
    }
   ],
   "source": [
    "Map = maptool.Map()\n",
    "Map.centerObject(toa)\n",
    "vis = {'bands':['nir', 'swir1','red']}\n",
    "Map.addLayer(toa, vis, 'Original')\n",
    "Map.addLayer(toaSHA, vis, 'Cloud Score + Shadow MASK')\n",
    "Map.addLayer(toaESA, vis, 'ESA MASK')\n",
    "Map.addLayer(toaHOLL, vis, 'Hollstein MASK')\n",
    "\n",
    "Map.show()"
   ]
  },
  {
   "cell_type": "code",
   "execution_count": null,
   "metadata": {
    "collapsed": true
   },
   "outputs": [],
   "source": []
  }
 ],
 "metadata": {
  "kernelspec": {
   "display_name": "Python 2",
   "language": "python",
   "name": "python2"
  },
  "language_info": {
   "codemirror_mode": {
    "name": "ipython",
    "version": 2
   },
   "file_extension": ".py",
   "mimetype": "text/x-python",
   "name": "python",
   "nbconvert_exporter": "python",
   "pygments_lexer": "ipython2",
   "version": "2.7.12"
  }
 },
 "nbformat": 4,
 "nbformat_minor": 2
}
